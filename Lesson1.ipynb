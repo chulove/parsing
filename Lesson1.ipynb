{
 "cells": [
  {
   "cell_type": "markdown",
   "id": "5b8c96e1",
   "metadata": {},
   "source": [
    "## Задание 1.\n",
    "Посмотреть документацию к API GitHub, разобраться как вывести список репозиториев для конкретного пользователя, сохранить JSON-вывод в файле *.json."
   ]
  },
  {
   "cell_type": "code",
   "execution_count": 31,
   "id": "9324aa93",
   "metadata": {},
   "outputs": [],
   "source": [
    "# Импортируем нужные библиотеки\n",
    "import requests, json"
   ]
  },
  {
   "cell_type": "code",
   "execution_count": 4,
   "id": "f0139c4d",
   "metadata": {},
   "outputs": [],
   "source": [
    "# Выполним get запрос\n",
    "repos = requests.get('https://api.github.com/users/chulove/repos')"
   ]
  },
  {
   "cell_type": "code",
   "execution_count": 16,
   "id": "04749f06",
   "metadata": {},
   "outputs": [
    {
     "data": {
      "text/plain": [
       "[{'id': 410604053,\n",
       "  'node_id': 'R_kgDOGHlSFQ',\n",
       "  'name': 'course_1_python',\n",
       "  'full_name': 'chulove/course_1_python',\n",
       "  'private': False,\n",
       "  'owner': {'login': 'chulove',\n",
       "   'id': 91426612,\n",
       "   'node_id': 'MDQ6VXNlcjkxNDI2NjEy',\n",
       "   'avatar_url': 'https://avatars.githubusercontent.com/u/91426612?v=4',\n",
       "   'gravatar_id': '',\n",
       "   'url': 'https://api.github.com/users/chulove',\n",
       "   'html_url': 'https://github.com/chulove',\n",
       "   'followers_url': 'https://api.github.com/users/chulove/followers',\n",
       "   'following_url': 'https://api.github.com/users/chulove/following{/other_user}',\n",
       "   'gists_url': 'https://api.github.com/users/chulove/gists{/gist_id}',\n",
       "   'starred_url': 'https://api.github.com/users/chulove/starred{/owner}{/repo}',\n",
       "   'subscriptions_url': 'https://api.github.com/users/chulove/subscriptions',\n",
       "   'organizations_url': 'https://api.github.com/users/chulove/orgs',\n",
       "   'repos_url': 'https://api.github.com/users/chulove/repos',\n",
       "   'events_url': 'https://api.github.com/users/chulove/events{/privacy}',\n",
       "   'received_events_url': 'https://api.github.com/users/chulove/received_events',\n",
       "   'type': 'User',\n",
       "   'site_admin': False},\n",
       "  'html_url': 'https://github.com/chulove/course_1_python',\n",
       "  'description': 'GB: Курс 1. Основы Python',\n",
       "  'fork': False,\n",
       "  'url': 'https://api.github.com/repos/chulove/course_1_python',\n",
       "  'forks_url': 'https://api.github.com/repos/chulove/course_1_python/forks',\n",
       "  'keys_url': 'https://api.github.com/repos/chulove/course_1_python/keys{/key_id}',\n",
       "  'collaborators_url': 'https://api.github.com/repos/chulove/course_1_python/collaborators{/collaborator}',\n",
       "  'teams_url': 'https://api.github.com/repos/chulove/course_1_python/teams',\n",
       "  'hooks_url': 'https://api.github.com/repos/chulove/course_1_python/hooks',\n",
       "  'issue_events_url': 'https://api.github.com/repos/chulove/course_1_python/issues/events{/number}',\n",
       "  'events_url': 'https://api.github.com/repos/chulove/course_1_python/events',\n",
       "  'assignees_url': 'https://api.github.com/repos/chulove/course_1_python/assignees{/user}',\n",
       "  'branches_url': 'https://api.github.com/repos/chulove/course_1_python/branches{/branch}',\n",
       "  'tags_url': 'https://api.github.com/repos/chulove/course_1_python/tags',\n",
       "  'blobs_url': 'https://api.github.com/repos/chulove/course_1_python/git/blobs{/sha}',\n",
       "  'git_tags_url': 'https://api.github.com/repos/chulove/course_1_python/git/tags{/sha}',\n",
       "  'git_refs_url': 'https://api.github.com/repos/chulove/course_1_python/git/refs{/sha}',\n",
       "  'trees_url': 'https://api.github.com/repos/chulove/course_1_python/git/trees{/sha}',\n",
       "  'statuses_url': 'https://api.github.com/repos/chulove/course_1_python/statuses/{sha}',\n",
       "  'languages_url': 'https://api.github.com/repos/chulove/course_1_python/languages',\n",
       "  'stargazers_url': 'https://api.github.com/repos/chulove/course_1_python/stargazers',\n",
       "  'contributors_url': 'https://api.github.com/repos/chulove/course_1_python/contributors',\n",
       "  'subscribers_url': 'https://api.github.com/repos/chulove/course_1_python/subscribers',\n",
       "  'subscription_url': 'https://api.github.com/repos/chulove/course_1_python/subscription',\n",
       "  'commits_url': 'https://api.github.com/repos/chulove/course_1_python/commits{/sha}',\n",
       "  'git_commits_url': 'https://api.github.com/repos/chulove/course_1_python/git/commits{/sha}',\n",
       "  'comments_url': 'https://api.github.com/repos/chulove/course_1_python/comments{/number}',\n",
       "  'issue_comment_url': 'https://api.github.com/repos/chulove/course_1_python/issues/comments{/number}',\n",
       "  'contents_url': 'https://api.github.com/repos/chulove/course_1_python/contents/{+path}',\n",
       "  'compare_url': 'https://api.github.com/repos/chulove/course_1_python/compare/{base}...{head}',\n",
       "  'merges_url': 'https://api.github.com/repos/chulove/course_1_python/merges',\n",
       "  'archive_url': 'https://api.github.com/repos/chulove/course_1_python/{archive_format}{/ref}',\n",
       "  'downloads_url': 'https://api.github.com/repos/chulove/course_1_python/downloads',\n",
       "  'issues_url': 'https://api.github.com/repos/chulove/course_1_python/issues{/number}',\n",
       "  'pulls_url': 'https://api.github.com/repos/chulove/course_1_python/pulls{/number}',\n",
       "  'milestones_url': 'https://api.github.com/repos/chulove/course_1_python/milestones{/number}',\n",
       "  'notifications_url': 'https://api.github.com/repos/chulove/course_1_python/notifications{?since,all,participating}',\n",
       "  'labels_url': 'https://api.github.com/repos/chulove/course_1_python/labels{/name}',\n",
       "  'releases_url': 'https://api.github.com/repos/chulove/course_1_python/releases{/id}',\n",
       "  'deployments_url': 'https://api.github.com/repos/chulove/course_1_python/deployments',\n",
       "  'created_at': '2021-09-26T16:30:48Z',\n",
       "  'updated_at': '2021-09-26T16:30:51Z',\n",
       "  'pushed_at': '2021-11-02T19:18:46Z',\n",
       "  'git_url': 'git://github.com/chulove/course_1_python.git',\n",
       "  'ssh_url': 'git@github.com:chulove/course_1_python.git',\n",
       "  'clone_url': 'https://github.com/chulove/course_1_python.git',\n",
       "  'svn_url': 'https://github.com/chulove/course_1_python',\n",
       "  'homepage': None,\n",
       "  'size': 24,\n",
       "  'stargazers_count': 0,\n",
       "  'watchers_count': 0,\n",
       "  'language': None,\n",
       "  'has_issues': True,\n",
       "  'has_projects': True,\n",
       "  'has_downloads': True,\n",
       "  'has_wiki': True,\n",
       "  'has_pages': False,\n",
       "  'has_discussions': False,\n",
       "  'forks_count': 0,\n",
       "  'mirror_url': None,\n",
       "  'archived': False,\n",
       "  'disabled': False,\n",
       "  'open_issues_count': 4,\n",
       "  'license': None,\n",
       "  'allow_forking': True,\n",
       "  'is_template': False,\n",
       "  'web_commit_signoff_required': False,\n",
       "  'topics': [],\n",
       "  'visibility': 'public',\n",
       "  'forks': 0,\n",
       "  'open_issues': 4,\n",
       "  'watchers': 0,\n",
       "  'default_branch': 'main'},\n",
       " {'id': 492105988,\n",
       "  'node_id': 'R_kgDOHVTxBA',\n",
       "  'name': 'PythonDS',\n",
       "  'full_name': 'chulove/PythonDS',\n",
       "  'private': False,\n",
       "  'owner': {'login': 'chulove',\n",
       "   'id': 91426612,\n",
       "   'node_id': 'MDQ6VXNlcjkxNDI2NjEy',\n",
       "   'avatar_url': 'https://avatars.githubusercontent.com/u/91426612?v=4',\n",
       "   'gravatar_id': '',\n",
       "   'url': 'https://api.github.com/users/chulove',\n",
       "   'html_url': 'https://github.com/chulove',\n",
       "   'followers_url': 'https://api.github.com/users/chulove/followers',\n",
       "   'following_url': 'https://api.github.com/users/chulove/following{/other_user}',\n",
       "   'gists_url': 'https://api.github.com/users/chulove/gists{/gist_id}',\n",
       "   'starred_url': 'https://api.github.com/users/chulove/starred{/owner}{/repo}',\n",
       "   'subscriptions_url': 'https://api.github.com/users/chulove/subscriptions',\n",
       "   'organizations_url': 'https://api.github.com/users/chulove/orgs',\n",
       "   'repos_url': 'https://api.github.com/users/chulove/repos',\n",
       "   'events_url': 'https://api.github.com/users/chulove/events{/privacy}',\n",
       "   'received_events_url': 'https://api.github.com/users/chulove/received_events',\n",
       "   'type': 'User',\n",
       "   'site_admin': False},\n",
       "  'html_url': 'https://github.com/chulove/PythonDS',\n",
       "  'description': None,\n",
       "  'fork': False,\n",
       "  'url': 'https://api.github.com/repos/chulove/PythonDS',\n",
       "  'forks_url': 'https://api.github.com/repos/chulove/PythonDS/forks',\n",
       "  'keys_url': 'https://api.github.com/repos/chulove/PythonDS/keys{/key_id}',\n",
       "  'collaborators_url': 'https://api.github.com/repos/chulove/PythonDS/collaborators{/collaborator}',\n",
       "  'teams_url': 'https://api.github.com/repos/chulove/PythonDS/teams',\n",
       "  'hooks_url': 'https://api.github.com/repos/chulove/PythonDS/hooks',\n",
       "  'issue_events_url': 'https://api.github.com/repos/chulove/PythonDS/issues/events{/number}',\n",
       "  'events_url': 'https://api.github.com/repos/chulove/PythonDS/events',\n",
       "  'assignees_url': 'https://api.github.com/repos/chulove/PythonDS/assignees{/user}',\n",
       "  'branches_url': 'https://api.github.com/repos/chulove/PythonDS/branches{/branch}',\n",
       "  'tags_url': 'https://api.github.com/repos/chulove/PythonDS/tags',\n",
       "  'blobs_url': 'https://api.github.com/repos/chulove/PythonDS/git/blobs{/sha}',\n",
       "  'git_tags_url': 'https://api.github.com/repos/chulove/PythonDS/git/tags{/sha}',\n",
       "  'git_refs_url': 'https://api.github.com/repos/chulove/PythonDS/git/refs{/sha}',\n",
       "  'trees_url': 'https://api.github.com/repos/chulove/PythonDS/git/trees{/sha}',\n",
       "  'statuses_url': 'https://api.github.com/repos/chulove/PythonDS/statuses/{sha}',\n",
       "  'languages_url': 'https://api.github.com/repos/chulove/PythonDS/languages',\n",
       "  'stargazers_url': 'https://api.github.com/repos/chulove/PythonDS/stargazers',\n",
       "  'contributors_url': 'https://api.github.com/repos/chulove/PythonDS/contributors',\n",
       "  'subscribers_url': 'https://api.github.com/repos/chulove/PythonDS/subscribers',\n",
       "  'subscription_url': 'https://api.github.com/repos/chulove/PythonDS/subscription',\n",
       "  'commits_url': 'https://api.github.com/repos/chulove/PythonDS/commits{/sha}',\n",
       "  'git_commits_url': 'https://api.github.com/repos/chulove/PythonDS/git/commits{/sha}',\n",
       "  'comments_url': 'https://api.github.com/repos/chulove/PythonDS/comments{/number}',\n",
       "  'issue_comment_url': 'https://api.github.com/repos/chulove/PythonDS/issues/comments{/number}',\n",
       "  'contents_url': 'https://api.github.com/repos/chulove/PythonDS/contents/{+path}',\n",
       "  'compare_url': 'https://api.github.com/repos/chulove/PythonDS/compare/{base}...{head}',\n",
       "  'merges_url': 'https://api.github.com/repos/chulove/PythonDS/merges',\n",
       "  'archive_url': 'https://api.github.com/repos/chulove/PythonDS/{archive_format}{/ref}',\n",
       "  'downloads_url': 'https://api.github.com/repos/chulove/PythonDS/downloads',\n",
       "  'issues_url': 'https://api.github.com/repos/chulove/PythonDS/issues{/number}',\n",
       "  'pulls_url': 'https://api.github.com/repos/chulove/PythonDS/pulls{/number}',\n",
       "  'milestones_url': 'https://api.github.com/repos/chulove/PythonDS/milestones{/number}',\n",
       "  'notifications_url': 'https://api.github.com/repos/chulove/PythonDS/notifications{?since,all,participating}',\n",
       "  'labels_url': 'https://api.github.com/repos/chulove/PythonDS/labels{/name}',\n",
       "  'releases_url': 'https://api.github.com/repos/chulove/PythonDS/releases{/id}',\n",
       "  'deployments_url': 'https://api.github.com/repos/chulove/PythonDS/deployments',\n",
       "  'created_at': '2022-05-14T03:52:42Z',\n",
       "  'updated_at': '2022-05-28T01:49:56Z',\n",
       "  'pushed_at': '2022-06-25T10:57:24Z',\n",
       "  'git_url': 'git://github.com/chulove/PythonDS.git',\n",
       "  'ssh_url': 'git@github.com:chulove/PythonDS.git',\n",
       "  'clone_url': 'https://github.com/chulove/PythonDS.git',\n",
       "  'svn_url': 'https://github.com/chulove/PythonDS',\n",
       "  'homepage': None,\n",
       "  'size': 1767,\n",
       "  'stargazers_count': 0,\n",
       "  'watchers_count': 0,\n",
       "  'language': 'Jupyter Notebook',\n",
       "  'has_issues': True,\n",
       "  'has_projects': True,\n",
       "  'has_downloads': True,\n",
       "  'has_wiki': True,\n",
       "  'has_pages': False,\n",
       "  'has_discussions': False,\n",
       "  'forks_count': 0,\n",
       "  'mirror_url': None,\n",
       "  'archived': False,\n",
       "  'disabled': False,\n",
       "  'open_issues_count': 1,\n",
       "  'license': None,\n",
       "  'allow_forking': True,\n",
       "  'is_template': False,\n",
       "  'web_commit_signoff_required': False,\n",
       "  'topics': [],\n",
       "  'visibility': 'public',\n",
       "  'forks': 0,\n",
       "  'open_issues': 1,\n",
       "  'watchers': 0,\n",
       "  'default_branch': 'main'}]"
      ]
     },
     "execution_count": 16,
     "metadata": {},
     "output_type": "execute_result"
    }
   ],
   "source": [
    "# Изучим содержимое полученного ответа\n",
    "repos.json()"
   ]
  },
  {
   "cell_type": "code",
   "execution_count": 17,
   "id": "c4bf403b",
   "metadata": {},
   "outputs": [
    {
     "name": "stdout",
     "output_type": "stream",
     "text": [
      "course_1_python\n",
      "PythonDS\n"
     ]
    }
   ],
   "source": [
    "# Выведем названия репозиториев\n",
    "for i in repos.json():\n",
    "    print(i['name'])"
   ]
  },
  {
   "cell_type": "code",
   "execution_count": 18,
   "id": "a1a47cd6",
   "metadata": {},
   "outputs": [],
   "source": [
    "# Запишем полученный json в файл repos.json\n",
    "with open('repos.json', 'w') as f:\n",
    "    json.dump(repos.json(), f)"
   ]
  },
  {
   "cell_type": "markdown",
   "id": "038c4505",
   "metadata": {},
   "source": [
    "## Задание 2.\n",
    "\n",
    "Сделайте запрос к API вконтакте, чтобы получить список всех сообществ на которые вы подписаны."
   ]
  },
  {
   "cell_type": "code",
   "execution_count": 1,
   "id": "beae027f",
   "metadata": {},
   "outputs": [],
   "source": [
    "# Импортируем библиотеку\n",
    "import vk"
   ]
  },
  {
   "cell_type": "code",
   "execution_count": 3,
   "id": "fda1c1b7",
   "metadata": {},
   "outputs": [],
   "source": [
    "# Прописываем токен доступа\n",
    "token = '***'"
   ]
  },
  {
   "cell_type": "code",
   "execution_count": 13,
   "id": "27588573",
   "metadata": {},
   "outputs": [],
   "source": [
    "# Авторизуемся с помощью токена \n",
    "api = vk.API(access_token=token, v='5.131')"
   ]
  },
  {
   "cell_type": "code",
   "execution_count": 26,
   "id": "6afb0b6d",
   "metadata": {},
   "outputs": [],
   "source": [
    "# Получаем список групп\n",
    "groups = api.groups.get()"
   ]
  },
  {
   "cell_type": "code",
   "execution_count": 32,
   "id": "2510ffc7",
   "metadata": {},
   "outputs": [],
   "source": [
    "# Запишем в файл groups.txt\n",
    "with open('groups.txt', 'w') as f:\n",
    "    json.dump(groups, f)"
   ]
  }
 ],
 "metadata": {
  "kernelspec": {
   "display_name": "Python 3 (ipykernel)",
   "language": "python",
   "name": "python3"
  },
  "language_info": {
   "codemirror_mode": {
    "name": "ipython",
    "version": 3
   },
   "file_extension": ".py",
   "mimetype": "text/x-python",
   "name": "python",
   "nbconvert_exporter": "python",
   "pygments_lexer": "ipython3",
   "version": "3.10.0"
  }
 },
 "nbformat": 4,
 "nbformat_minor": 5
}
