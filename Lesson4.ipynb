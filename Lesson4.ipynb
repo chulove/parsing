{
 "cells": [
  {
   "cell_type": "markdown",
   "id": "e47c0a28",
   "metadata": {},
   "source": [
    "## Задание 1.\n",
    "- Развернуть у себя на компьютере/виртуальной машине/хостинге MongoDB и реализовать функцию, которая будет добавлять только новые вакансии/продукты в вашу базу.\n",
    "- Написать функцию, которая производит поиск и выводит на экран вакансии с заработной платой больше введённой суммы (необходимо анализировать оба поля зарплаты)."
   ]
  },
  {
   "cell_type": "code",
   "execution_count": 1,
   "id": "7528161e",
   "metadata": {},
   "outputs": [],
   "source": [
    "from bs4 import BeautifulSoup as bs\n",
    "import requests\n",
    "from time import sleep\n",
    "from pymongo import MongoClient"
   ]
  },
  {
   "cell_type": "code",
   "execution_count": 2,
   "id": "cbe4d529",
   "metadata": {},
   "outputs": [],
   "source": [
    "USER_AGENT = 'Mozilla/5.0 (Windows NT 10.0; Win64; x64) AppleWebKit/537.36 (KHTML, like Gecko) Chrome/110.0.0.0 Safari/537.36'\n",
    "URL_HH_PREFIX = 'https://hh.ru/search/vacancy?text='\n",
    "URL_HH_SUFFIX = '&from=suggest_post&area=1'"
   ]
  },
  {
   "cell_type": "code",
   "execution_count": 3,
   "id": "668a503f",
   "metadata": {},
   "outputs": [],
   "source": [
    "def get_soups_from_url(url):\n",
    "    response = requests.get(url, headers = {'User-Agent': USER_AGENT})\n",
    "    soups = []\n",
    "    if response.status_code == 200:\n",
    "        soups.append(bs(response.content, 'html.parser'))\n",
    "        while soups[-1].find_all('a', {'data-qa': 'pager-next'}):\n",
    "            sleep(5)\n",
    "            response = requests.get(url = url_hh + '&page=' + str(len(soups)), headers = {'User-Agent': USER_AGENT})\n",
    "            if response.status_code == 200:\n",
    "                soups.append(bs(response.content, 'html.parser'))\n",
    "            else:\n",
    "                print(f'Парсинг завершен досрочно. Удалось спарсить только страниц: {len(soups)}')\n",
    "                break\n",
    "        else:\n",
    "            print(f'Парсинг успешно завершен. Удалось спарсить страниц: {len(soups)}')\n",
    "    else:\n",
    "        print(f'Парсинг не выполнен. Проверьте URL или другие параметры')\n",
    "    return soups"
   ]
  },
  {
   "cell_type": "code",
   "execution_count": 11,
   "id": "53dc3e6d",
   "metadata": {},
   "outputs": [],
   "source": [
    "def get_vacancies_from_soups_hh(url):\n",
    "    vacancies = []\n",
    "    for soup in soups:\n",
    "        for vacancy in soup.find_all('div', {'class': 'serp-item'}):\n",
    "            vacancy_name = vacancy.find('a', {'class': 'serp-item__title'}).text\n",
    "            vacancy_company = vacancy.find('a', {'data-qa': 'vacancy-serp__vacancy-employer'}).text\n",
    "            vacancy_salary = vacancy.find('span', {'data-qa': 'vacancy-serp__vacancy-compensation'})\n",
    "            salary_min, salary_max, salary_currency = '', '', ''\n",
    "            if vacancy_salary:\n",
    "                vacancy_salary = vacancy_salary.text\n",
    "                salary_currency = vacancy_salary[vacancy_salary.rfind(' ')+1:].upper().replace('.','')\n",
    "                vacancy_salary = vacancy_salary[:vacancy_salary.rfind(' ')]\n",
    "                if vacancy_salary.find('–') > 0:\n",
    "                    salary_min = vacancy_salary[:vacancy_salary.find('–')].strip().replace(' ','')\n",
    "                    salary_max = vacancy_salary[vacancy_salary.find('–')+1:].strip().replace(' ','')\n",
    "                elif vacancy_salary.find('от ') == 0:\n",
    "                    salary_min = vacancy_salary[3:].strip().replace(' ','')\n",
    "                elif vacancy_salary.find('до ') == 0:\n",
    "                    salary_max = vacancy_salary[3:].strip().replace(' ','')\n",
    "            vacancy_link = vacancy.find('a')['href']\n",
    "            vacancy_source = 'HeadHunter'\n",
    "            vacancies.append({'vacancy_name': vacancy_name,\n",
    "                              'vacancy_company': vacancy_company,\n",
    "                              'salary_min': salary_min,\n",
    "                              'salary_max': salary_max,\n",
    "                              'salary_currency': salary_currency,\n",
    "                              'vacancy_link': vacancy_link,\n",
    "                              'vacancy_source': vacancy_source})\n",
    "    return vacancies"
   ]
  },
  {
   "cell_type": "code",
   "execution_count": 12,
   "id": "3d30130c",
   "metadata": {},
   "outputs": [
    {
     "name": "stdout",
     "output_type": "stream",
     "text": [
      "Введите профессию, должность или компанию: Data Science\n",
      "Парсинг успешно завершен. Удалось спарсить страниц: 9\n"
     ]
    }
   ],
   "source": [
    "text = input('Введите профессию, должность или компанию: ')\n",
    "url_hh = URL_HH_PREFIX + text.strip().replace(' ','+') + URL_HH_SUFFIX\n",
    "soups = get_soups_from_url(url_hh)\n",
    "vacancies_hh = get_vacancies_from_soups_hh(soups)"
   ]
  },
  {
   "cell_type": "code",
   "execution_count": 13,
   "id": "a1414775",
   "metadata": {},
   "outputs": [],
   "source": [
    "client = MongoClient()"
   ]
  },
  {
   "cell_type": "code",
   "execution_count": 14,
   "id": "8c42a9a8",
   "metadata": {},
   "outputs": [],
   "source": [
    "db = client.vacancies_hh"
   ]
  },
  {
   "cell_type": "code",
   "execution_count": 15,
   "id": "6e44323c",
   "metadata": {},
   "outputs": [],
   "source": [
    "collection_vacancies_hh = db.hh"
   ]
  },
  {
   "cell_type": "code",
   "execution_count": 20,
   "id": "f5b40f30",
   "metadata": {},
   "outputs": [],
   "source": [
    "def cheak_and_save_vacancies_in_db(vacancies):\n",
    "    for vacancy in vacancies:\n",
    "        if not len(list(collection_vacancies_hh.find({'vacancy_link': vacancy['vacancy_link']}))):\n",
    "            collection_vacancies_hh.insert_one(vacancy)"
   ]
  },
  {
   "cell_type": "code",
   "execution_count": 21,
   "id": "e62b164a",
   "metadata": {},
   "outputs": [],
   "source": [
    "cheak_and_save_vacancies_in_db(vacancies_hh)"
   ]
  },
  {
   "cell_type": "code",
   "execution_count": 22,
   "id": "f394305c",
   "metadata": {},
   "outputs": [
    {
     "data": {
      "text/plain": [
       "180"
      ]
     },
     "execution_count": 22,
     "metadata": {},
     "output_type": "execute_result"
    }
   ],
   "source": [
    "result_find = list(collection_vacancies_hh.find())\n",
    "len(result_find)"
   ]
  },
  {
   "cell_type": "code",
   "execution_count": 23,
   "id": "92de13b6",
   "metadata": {},
   "outputs": [
    {
     "ename": "TypeError",
     "evalue": "'>' not supported between instances of 'str' and 'int'",
     "output_type": "error",
     "traceback": [
      "\u001b[1;31m---------------------------------------------------------------------------\u001b[0m",
      "\u001b[1;31mTypeError\u001b[0m                                 Traceback (most recent call last)",
      "Input \u001b[1;32mIn [23]\u001b[0m, in \u001b[0;36m<cell line: 4>\u001b[1;34m()\u001b[0m\n\u001b[0;32m      1\u001b[0m \u001b[38;5;28;01mdef\u001b[39;00m \u001b[38;5;21mshow_vacancies\u001b[39m(salary):\n\u001b[0;32m      2\u001b[0m     \u001b[38;5;28mprint\u001b[39m(\u001b[38;5;28mlist\u001b[39m(collection_vacancies_hh\u001b[38;5;241m.\u001b[39mfind_all({\u001b[38;5;124m'\u001b[39m\u001b[38;5;124msalary_min\u001b[39m\u001b[38;5;124m'\u001b[39m \u001b[38;5;241m>\u001b[39m salary})))\n\u001b[1;32m----> 4\u001b[0m \u001b[43mshow_vacancies\u001b[49m\u001b[43m(\u001b[49m\u001b[38;5;241;43m200000\u001b[39;49m\u001b[43m)\u001b[49m\n",
      "Input \u001b[1;32mIn [23]\u001b[0m, in \u001b[0;36mshow_vacancies\u001b[1;34m(salary)\u001b[0m\n\u001b[0;32m      1\u001b[0m \u001b[38;5;28;01mdef\u001b[39;00m \u001b[38;5;21mshow_vacancies\u001b[39m(salary):\n\u001b[1;32m----> 2\u001b[0m     \u001b[38;5;28mprint\u001b[39m(\u001b[38;5;28mlist\u001b[39m(collection_vacancies_hh\u001b[38;5;241m.\u001b[39mfind_all({\u001b[38;5;124;43m'\u001b[39;49m\u001b[38;5;124;43msalary_min\u001b[39;49m\u001b[38;5;124;43m'\u001b[39;49m\u001b[43m \u001b[49m\u001b[38;5;241;43m>\u001b[39;49m\u001b[43m \u001b[49m\u001b[43msalary\u001b[49m})))\n",
      "\u001b[1;31mTypeError\u001b[0m: '>' not supported between instances of 'str' and 'int'"
     ]
    }
   ],
   "source": [
    "def show_vacancies(salary):\n",
    "    print([collection_vacancies_hh.])\n",
    "\n",
    "show_vacancies(200000)"
   ]
  },
  {
   "cell_type": "code",
   "execution_count": null,
   "id": "c873ab7a",
   "metadata": {},
   "outputs": [],
   "source": []
  }
 ],
 "metadata": {
  "kernelspec": {
   "display_name": "Python 3 (ipykernel)",
   "language": "python",
   "name": "python3"
  },
  "language_info": {
   "codemirror_mode": {
    "name": "ipython",
    "version": 3
   },
   "file_extension": ".py",
   "mimetype": "text/x-python",
   "name": "python",
   "nbconvert_exporter": "python",
   "pygments_lexer": "ipython3",
   "version": "3.10.0"
  }
 },
 "nbformat": 4,
 "nbformat_minor": 5
}
